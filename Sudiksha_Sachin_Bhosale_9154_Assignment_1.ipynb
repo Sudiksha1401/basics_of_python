{
  "nbformat": 4,
  "nbformat_minor": 0,
  "metadata": {
    "colab": {
      "name": "Sudiksha_Sachin_Bhosale_9154_Assignment_1.ipynb",
      "provenance": [],
      "collapsed_sections": []
    },
    "kernelspec": {
      "name": "python3",
      "display_name": "Python 3"
    },
    "language_info": {
      "name": "python"
    }
  },
  "cells": [
    {
      "cell_type": "code",
      "execution_count": null,
      "metadata": {
        "id": "AQljpCDjRh9M"
      },
      "outputs": [],
      "source": [
        "Name=\"Sudiksha Sachin Bhosale\"\n",
        "Roll_No=9154"
      ]
    },
    {
      "cell_type": "markdown",
      "metadata": {
        "id": "zddStRefVezy"
      },
      "source": [
        "Lists"
      ]
    },
    {
      "cell_type": "code",
      "execution_count": null,
      "metadata": {
        "colab": {
          "base_uri": "https://localhost:8080/"
        },
        "id": "UPa8vWBHT7Mt",
        "outputId": "f37106a4-1fee-4b2b-9ccb-c5c755812715"
      },
      "outputs": [
        {
          "output_type": "stream",
          "name": "stdout",
          "text": [
            "['Sudiksha Sachin', 'Bhosale', 20, 'Student']\n",
            "['SP College', 'Autonomous', 'Sadashiv Peth', 411030]\n"
          ]
        }
      ],
      "source": [
        "A=[\"Sudiksha Sachin\",\"Bhosale\",20,\"Student\",]\n",
        "B=[\"SP College\",\"Autonomous\",\"Sadashiv Peth\",411030]\n",
        "print(A)\n",
        "print(B)"
      ]
    },
    {
      "cell_type": "markdown",
      "metadata": {
        "id": "A33kXrv8VnVw"
      },
      "source": [
        "Tupples"
      ]
    },
    {
      "cell_type": "code",
      "execution_count": null,
      "metadata": {
        "colab": {
          "base_uri": "https://localhost:8080/"
        },
        "id": "CLWvdwTyVo6k",
        "outputId": "e856ccaf-fc3f-4743-eeda-9b97c3d5a57e"
      },
      "outputs": [
        {
          "output_type": "stream",
          "name": "stdout",
          "text": [
            "('Sudiksha Bhosale', 'Bhosale', 20, 'Student')\n",
            "('SP College', 'Autonomous', 'Sadashiv Peth', 411030)\n"
          ]
        }
      ],
      "source": [
        "a=(\"Sudiksha Bhosale\",\"Bhosale\",20,\"Student\")\n",
        "b=(\"SP College\",\"Autonomous\",\"Sadashiv Peth\",411030)\n",
        "print(a)\n",
        "print(b)"
      ]
    },
    {
      "cell_type": "code",
      "execution_count": null,
      "metadata": {
        "colab": {
          "base_uri": "https://localhost:8080/"
        },
        "id": "P0PC7eFiW1xa",
        "outputId": "1f9ee72e-4849-4781-ebab-98e2c97c2adb"
      },
      "outputs": [
        {
          "output_type": "stream",
          "name": "stdout",
          "text": [
            "['Sudiksha Sachin', 'Bhosale']\n",
            "['Sadashiv Peth']\n",
            "20\n",
            "411030\n"
          ]
        }
      ],
      "source": [
        "print(A[0:2])\n",
        "print(B[2:3])\n",
        "print(a[2])\n",
        "print(b[3])"
      ]
    },
    {
      "cell_type": "markdown",
      "metadata": {
        "id": "Vq1FbFa4V7GU"
      },
      "source": [
        "Class"
      ]
    },
    {
      "cell_type": "code",
      "execution_count": null,
      "metadata": {
        "colab": {
          "base_uri": "https://localhost:8080/"
        },
        "id": "K9Zz9geHWSYX",
        "outputId": "78090fec-7a1a-4fd3-fec2-728850842fc1"
      },
      "outputs": [
        {
          "output_type": "stream",
          "name": "stdout",
          "text": [
            "<class 'list'>\n",
            "<class 'list'>\n",
            "<class 'tuple'>\n",
            "<class 'tuple'>\n"
          ]
        }
      ],
      "source": [
        "print(type(A))\n",
        "print(type(B))\n",
        "print(type(a))\n",
        "print(type(b))"
      ]
    },
    {
      "cell_type": "markdown",
      "metadata": {
        "id": "HyzEj8AlWoo8"
      },
      "source": [
        "Copy"
      ]
    },
    {
      "cell_type": "code",
      "execution_count": null,
      "metadata": {
        "colab": {
          "base_uri": "https://localhost:8080/"
        },
        "id": "I5ALFx4NfqHY",
        "outputId": "267c778a-64b3-4fe5-e083-73fb3d08d711"
      },
      "outputs": [
        {
          "output_type": "stream",
          "name": "stdout",
          "text": [
            "['Sudiksha Sachin', 'Bhosale', 20, 'Student']\n",
            "['Sudiksha Sachin', 'Bhosale', 20, 'Student']\n"
          ]
        }
      ],
      "source": [
        "print(A)\n",
        "A1=A.copy()\n",
        "print(A1)\n",
        "\n",
        "### Tupples cannot be copied"
      ]
    },
    {
      "cell_type": "markdown",
      "metadata": {
        "id": "H2Igh-Dnhi3e"
      },
      "source": [
        "Append"
      ]
    },
    {
      "cell_type": "code",
      "execution_count": null,
      "metadata": {
        "colab": {
          "base_uri": "https://localhost:8080/"
        },
        "id": "KJV-dQhOhnWk",
        "outputId": "ad9bf337-a1b7-4675-c37e-0c050b1e491a"
      },
      "outputs": [
        {
          "output_type": "stream",
          "name": "stdout",
          "text": [
            "['SP College', 'Autonomous', 'Sadashiv Peth', 411030]\n",
            "['SP College', 'Autonomous', 'Sadashiv Peth', 411030, 'Autonomous']\n"
          ]
        }
      ],
      "source": [
        "print(B)\n",
        "B.append(\"Autonomous\")\n",
        "print(B)\n",
        "\n",
        "### TUpples cannot be modified"
      ]
    },
    {
      "cell_type": "markdown",
      "metadata": {
        "id": "yzC-dWA8j2_j"
      },
      "source": [
        "Count"
      ]
    },
    {
      "cell_type": "code",
      "execution_count": null,
      "metadata": {
        "colab": {
          "base_uri": "https://localhost:8080/"
        },
        "id": "gX7asZPvj4VK",
        "outputId": "55aed058-4b00-4480-a27f-e3b46026a527"
      },
      "outputs": [
        {
          "output_type": "stream",
          "name": "stdout",
          "text": [
            "1\n",
            "2\n"
          ]
        }
      ],
      "source": [
        "print(A.count(\"Sudiksha Sachin\"))\n",
        "A.append(\"Sudiksha Sachin\")\n",
        "print(A.count(\"Sudiksha Sachin\"))"
      ]
    },
    {
      "cell_type": "markdown",
      "metadata": {
        "id": "uZcdiR0plxbk"
      },
      "source": [
        "Delete list"
      ]
    },
    {
      "cell_type": "code",
      "execution_count": null,
      "metadata": {
        "id": "UpHOO4Isly_O",
        "colab": {
          "base_uri": "https://localhost:8080/"
        },
        "outputId": "94bbdc57-e2a4-4538-a5e4-ad4d7432b1f3"
      },
      "outputs": [
        {
          "output_type": "stream",
          "name": "stdout",
          "text": [
            "['Sudiksha Sachin', 'Bhosale', 20, 'Student']\n"
          ]
        }
      ],
      "source": [
        "try:\n",
        " print(A1)\n",
        " del A1\n",
        " print(A1)\n",
        "except:\n",
        "    pass\n",
        "\n",
        "### List A1 is deleted therefore it is showing error\n",
        "### Used Try and Expect to maintain the continuity of the program"
      ]
    },
    {
      "cell_type": "markdown",
      "metadata": {
        "id": "htdmmPEFmSZ2"
      },
      "source": [
        "Extend"
      ]
    },
    {
      "cell_type": "code",
      "execution_count": null,
      "metadata": {
        "colab": {
          "base_uri": "https://localhost:8080/"
        },
        "id": "FiPc5sWpmTaG",
        "outputId": "53d4dc1a-c9d4-4a1a-9cbd-f615df82f0c8"
      },
      "outputs": [
        {
          "output_type": "stream",
          "name": "stdout",
          "text": [
            "['Sudiksha Sachin', 'Bhosale', 20, 'Student', 'Sudiksha Sachin']\n",
            "['SP College', 'Autonomous', 'Sadashiv Peth', 411030, 'Autonomous']\n",
            "['Sudiksha Sachin', 'Bhosale', 20, 'Student', 'Sudiksha Sachin', 'SP College', 'Autonomous', 'Sadashiv Peth', 411030, 'Autonomous']\n"
          ]
        }
      ],
      "source": [
        "print(A)\n",
        "print(B)\n",
        "A.extend(B)\n",
        "print(A)"
      ]
    },
    {
      "cell_type": "markdown",
      "metadata": {
        "id": "3SZNyOkSmz_4"
      },
      "source": [
        "Index"
      ]
    },
    {
      "cell_type": "code",
      "execution_count": null,
      "metadata": {
        "colab": {
          "base_uri": "https://localhost:8080/"
        },
        "id": "lh7Fcztcm5zQ",
        "outputId": "8b549e52-b869-4c61-e181-d5f9e5e9e560"
      },
      "outputs": [
        {
          "output_type": "stream",
          "name": "stdout",
          "text": [
            "2\n",
            "6\n"
          ]
        }
      ],
      "source": [
        "print(B.index(\"Sadashiv Peth\"))\n",
        "print(A.index(\"Autonomous\"))\n",
        "\n",
        "### If the elements are repeated in the list then index() will provide the index no. of first element"
      ]
    },
    {
      "cell_type": "markdown",
      "metadata": {
        "id": "i18HeCFVna_F"
      },
      "source": [
        "Sort"
      ]
    },
    {
      "cell_type": "code",
      "execution_count": null,
      "metadata": {
        "colab": {
          "base_uri": "https://localhost:8080/"
        },
        "id": "53GvfXQgnb07",
        "outputId": "e52395bd-3759-419e-8a17-26cbca74fb77"
      },
      "outputs": [
        {
          "output_type": "stream",
          "name": "stdout",
          "text": [
            "['D', 'A', 'C', 'B']\n",
            "[4, 2, 1, 3]\n",
            "['A', 'B', 'C', 'D']\n",
            "[1, 2, 3, 4]\n"
          ]
        }
      ],
      "source": [
        "K=[\"D\",\"A\",\"C\",\"B\"]\n",
        "print(K)\n",
        "K1=[4,2,1,3]\n",
        "print(K1)\n",
        "K.sort()\n",
        "K1.sort()\n",
        "print(K)\n",
        "print(K1)\n",
        "\n",
        "### For sorting all the elements in the list should be of same type"
      ]
    },
    {
      "cell_type": "markdown",
      "metadata": {
        "id": "gcL3B3ELoci8"
      },
      "source": [
        "Access"
      ]
    },
    {
      "cell_type": "code",
      "execution_count": null,
      "metadata": {
        "colab": {
          "base_uri": "https://localhost:8080/"
        },
        "id": "Ej2MOc8Nofdk",
        "outputId": "ce5a050b-1695-4dc8-9dd4-0f17ae0f85c2"
      },
      "outputs": [
        {
          "output_type": "stream",
          "name": "stdout",
          "text": [
            "['A', 'B']\n",
            "[1, 2, 3, 4]\n"
          ]
        }
      ],
      "source": [
        "print(K[:2])\n",
        "print(K1[0:])"
      ]
    },
    {
      "cell_type": "markdown",
      "metadata": {
        "id": "CsCUgmvxo_KC"
      },
      "source": [
        "Nested List"
      ]
    },
    {
      "cell_type": "code",
      "execution_count": null,
      "metadata": {
        "colab": {
          "base_uri": "https://localhost:8080/"
        },
        "id": "M4UQ5D3VpApW",
        "outputId": "dccb3145-af17-41a0-c6a2-b3df8273c882"
      },
      "outputs": [
        {
          "output_type": "stream",
          "name": "stdout",
          "text": [
            "['Sudiksha Bhosale', 'SP COllege', [20, 411030]]\n",
            "[20, 411030]\n"
          ]
        }
      ],
      "source": [
        "ABlist=[\"Sudiksha Bhosale\",\"SP COllege\",[20,411030]]\n",
        "print(ABlist)\n",
        "print(ABlist[2])"
      ]
    }
  ]
}